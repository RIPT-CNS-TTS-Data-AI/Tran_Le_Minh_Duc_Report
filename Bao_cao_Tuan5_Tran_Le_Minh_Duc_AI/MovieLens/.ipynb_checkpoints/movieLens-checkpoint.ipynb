{
 "cells": [
  {
   "cell_type": "code",
   "execution_count": 18,
   "id": "9a7e7d09-57d4-4910-b863-6ce33307c453",
   "metadata": {},
   "outputs": [],
   "source": [
    "import pandas as pd\n",
    "import numpy as np\n"
   ]
  },
  {
   "cell_type": "code",
   "execution_count": 19,
   "id": "da722cc7-d614-4313-b3e2-a5bbe0becedb",
   "metadata": {},
   "outputs": [],
   "source": [
    "import pandas as pd\n",
    "\n",
    "movies = pd.read_csv(\"movies.csv\")\n",
    "ratings = pd.read_csv(\"ratings.csv\")\n",
    "tags = pd.read_csv(\"tags.csv\")\n",
    "\n",
    "# Kiểm tra và loại bỏ dữ liệu thiếu\n",
    "movies.dropna(inplace=True)\n",
    "ratings.dropna(inplace=True)\n",
    "tags.dropna(inplace=True)\n",
    "\n",
    "# Loại bỏ duplicate nếu có\n",
    "movies.drop_duplicates(inplace=True)\n",
    "ratings.drop_duplicates(inplace=True)"
   ]
  },
  {
   "cell_type": "code",
   "execution_count": 20,
   "id": "996cb089-736d-40b0-afb3-8f4c4e7ef24d",
   "metadata": {},
   "outputs": [],
   "source": [
    "\n",
    "# Gộp tất cả vào links\n",
    "#links = pd.merge(links, movies, on='movieId', how='left')\n",
    "#links = pd.merge(links, ratings, on='movieId', how='left')\n",
    "#links = pd.merge(links, tags, on=['movieId', 'userId'], how='left')\n",
    "\n",
    "#links.drop_duplicates(inplace=True)\n",
    "\n"
   ]
  },
  {
   "cell_type": "code",
   "execution_count": 21,
   "id": "c748021f-6860-47d8-8f94-f39cf1a8346d",
   "metadata": {},
   "outputs": [
    {
     "data": {
      "image/png": "[encoded data removed]",
      "text/plain": [
       "<Figure size 640x480 with 1 Axes>"
      ]
     },
     "metadata": {},
     "output_type": "display_data"
    },
    {
     "name": "stdout",
     "output_type": "stream",
     "text": [
      "                                       title  rating\n",
      "0                        Forrest Gump (1994)     329\n",
      "1           Shawshank Redemption, The (1994)     317\n",
      "2                        Pulp Fiction (1994)     307\n",
      "3           Silence of the Lambs, The (1991)     279\n",
      "4                         Matrix, The (1999)     278\n",
      "5  Star Wars: Episode IV - A New Hope (1977)     251\n",
      "6                       Jurassic Park (1993)     238\n",
      "7                          Braveheart (1995)     237\n",
      "8          Terminator 2: Judgment Day (1991)     224\n",
      "9                    Schindler's List (1993)     220\n"
     ]
    }
   ],
   "source": [
    "import matplotlib.pyplot as plt\n",
    "import seaborn as sns\n",
    "\n",
    "# Phân phối đánh giá\n",
    "sns.histplot(ratings['rating'], bins=10)\n",
    "plt.title(\"Phân phối đánh giá phim\")\n",
    "plt.show()\n",
    "\n",
    "# Top phim được đánh giá nhiều nhất\n",
    "top_movies = ratings.groupby(\"movieId\")['rating'].count().sort_values(ascending=False).head(10)\n",
    "top_movies = pd.merge(top_movies, movies, on='movieId')\n",
    "print(top_movies[['title', 'rating']])\n"
   ]
  },
  {
   "cell_type": "code",
   "execution_count": null,
   "id": "8b4dada9-988e-4760-8740-069786067ad8",
   "metadata": {},
   "outputs": [],
   "source": [
    "print(\"Ratings:\")\n",
    "print(ratings.describe())\n",
    "\n",
    "print(\"\\nSố lượng phim:\", movies['movieId'].nunique())\n",
    "print(\"Số lượng người dùng:\", ratings['userId'].nunique())\n",
    "print(\"Số rating trung bình trên mỗi phim:\", ratings.groupby('movieId').size().mean())\n"
   ]
  },
  {
   "cell_type": "code",
   "execution_count": 22,
   "id": "c8ccd62e-2a9e-4102-b642-d0012ab480c8",
   "metadata": {},
   "outputs": [],
   "source": [
    "import pandas as pd\n",
    "from sklearn.metrics.pairwise import cosine_similarity\n",
    "from sklearn.decomposition import TruncatedSVD\n",
    "from sklearn.model_selection import train_test_split\n",
    "from sklearn.metrics import mean_squared_error, mean_absolute_error\n",
    "import numpy as np\n",
    "\n",
    "# Đọc dữ liệu\n",
    "ratings = pd.read_csv(\"ratings.csv\")\n",
    "\n",
    "# Tạo ma trận người dùng - phim\n",
    "user_movie_matrix = ratings.pivot_table(index='userId', columns='movieId', values='rating').fillna(0)\n",
    "\n",
    "# === KNN user-based Collaborative Filtering ===\n",
    "user_similarity = cosine_similarity(user_movie_matrix)\n",
    "user_similarity_df = pd.DataFrame(user_similarity, index=user_movie_matrix.index, columns=user_movie_matrix.index)\n",
    "\n",
    "# Gợi ý: dự đoán điểm đánh giá user u cho movie m\n",
    "def predict_rating_knn(user_id, movie_id, k=5):\n",
    "    if movie_id not in user_movie_matrix.columns:\n",
    "        return np.nan\n",
    "\n",
    "    # Lấy k người dùng giống user_id nhất\n",
    "    sim_scores = user_similarity_df[user_id].drop(index=user_id).sort_values(ascending=False)[:k]\n",
    "    top_users = sim_scores.index\n",
    "    ratings_by_top_users = user_movie_matrix.loc[top_users, movie_id]\n",
    "    weighted_ratings = ratings_by_top_users * sim_scores\n",
    "    return weighted_ratings.sum() / sim_scores[ratings_by_top_users.notnull()].sum()\n"
   ]
  },
  {
   "cell_type": "code",
   "execution_count": 23,
   "id": "82c0754c-643e-4dec-ac1c-02e0c5df163b",
   "metadata": {},
   "outputs": [],
   "source": [
    "# SVD giảm chiều dữ liệu\n",
    "svd = TruncatedSVD(n_components=20)\n",
    "svd_matrix = svd.fit_transform(user_movie_matrix)\n",
    "\n",
    "# Dự đoán lại ma trận đánh giá\n",
    "reconstructed = np.dot(svd_matrix, svd.components_)\n",
    "reconstructed_df = pd.DataFrame(reconstructed, index=user_movie_matrix.index, columns=user_movie_matrix.columns)\n"
   ]
  },
  {
   "cell_type": "code",
   "execution_count": 24,
   "id": "40f4d29e-af19-4f98-a140-cf6b3feb0d11",
   "metadata": {},
   "outputs": [
    {
     "name": "stdout",
     "output_type": "stream",
     "text": [
      "RMSE: 2.3638, MAE: 1.9852\n"
     ]
    }
   ],
   "source": [
    "# Tạo tập test\n",
    "train, test = train_test_split(ratings, test_size=0.2, random_state=42)\n",
    "\n",
    "# Dự đoán từ reconstructed SVD\n",
    "y_true = []\n",
    "y_pred = []\n",
    "\n",
    "for _, row in test.iterrows():\n",
    "    uid = row['userId']\n",
    "    mid = row['movieId']\n",
    "    true = row['rating']\n",
    "    try:\n",
    "        pred = reconstructed_df.loc[uid, mid]\n",
    "        y_true.append(true)\n",
    "        y_pred.append(pred)\n",
    "    except:\n",
    "        continue\n",
    "\n",
    "rmse = np.sqrt(mean_squared_error(y_true, y_pred))\n",
    "mae = mean_absolute_error(y_true, y_pred)\n",
    "\n",
    "print(f\"RMSE: {rmse:.4f}, MAE: {mae:.4f}\")\n"
   ]
  },
  {
   "cell_type": "code",
   "execution_count": 25,
   "id": "3a9ccc71-4f09-42a7-80a3-8f5d3681b6be",
   "metadata": {},
   "outputs": [
    {
     "name": "stdout",
     "output_type": "stream",
     "text": [
      "Precision: 0.8770\n",
      "Recall:    0.1067\n"
     ]
    }
   ],
   "source": [
    "from sklearn.metrics import precision_score, recall_score\n",
    "\n",
    "# Định nghĩa nhãn: >= 4 là thích\n",
    "y_true_labels = [1 if r >= 4.0 else 0 for r in y_true]\n",
    "y_pred_labels = [1 if r >= 4.0 else 0 for r in y_pred]\n",
    "\n",
    "precision = precision_score(y_true_labels, y_pred_labels, zero_division=0)\n",
    "recall = recall_score(y_true_labels, y_pred_labels, zero_division=0)\n",
    "\n",
    "print(f\"Precision: {precision:.4f}\")\n",
    "print(f\"Recall:    {recall:.4f}\")\n"
   ]
  },
  {
   "cell_type": "code",
   "execution_count": 26,
   "id": "f6cdfb2e-57b9-477e-bb02-b78307b80cd3",
   "metadata": {},
   "outputs": [
    {
     "name": "stdout",
     "output_type": "stream",
     "text": [
      "Gợi ý từ Content-Based:\n",
      "['Antz (1998)', 'Toy Story 2 (1999)', 'Adventures of Rocky and Bullwinkle, The (2000)', \"Emperor's New Groove, The (2000)\", 'Monsters, Inc. (2001)', 'Wild, The (2006)', 'Shrek the Third (2007)', 'Tale of Despereaux, The (2008)', 'Asterix and the Vikings (Astérix et les Vikings) (2006)', 'Turbo (2013)']\n",
      "[[1.         0.81357774 0.15276924 ... 0.         0.4210373  0.26758648]\n",
      " [0.81357774 1.         0.         ... 0.         0.         0.        ]\n",
      " [0.15276924 0.         1.         ... 0.         0.         0.57091541]\n",
      " ...\n",
      " [0.         0.         0.         ... 1.         0.         0.        ]\n",
      " [0.4210373  0.         0.         ... 0.         1.         0.        ]\n",
      " [0.26758648 0.         0.57091541 ... 0.         0.         1.        ]]\n",
      "title\n",
      "Toy Story (1995)                                0\n",
      "Jumanji (1995)                                  1\n",
      "Grumpier Old Men (1995)                         2\n",
      "Waiting to Exhale (1995)                        3\n",
      "Father of the Bride Part II (1995)              4\n",
      "                                             ... \n",
      "Black Butler: Book of the Atlantic (2017)    9737\n",
      "No Game No Life: Zero (2017)                 9738\n",
      "Flint (2017)                                 9739\n",
      "Bungo Stray Dogs: Dead Apple (2018)          9740\n",
      "Andrew Dice Clay: Dice Rules (1991)          9741\n",
      "Length: 9742, dtype: int64\n"
     ]
    }
   ],
   "source": [
    "\n",
    "# Tính cosine similarity\n",
    "cosine_sim = linear_kernel(tfidf_matrix, tfidf_matrix)\n",
    "\n",
    "# Mappings từ title sang index\n",
    "indices = pd.Series(movies.index, index=movies['title'])\n",
    "\n",
    "# Hàm gợi ý\n",
    "def content_recommend(title, cosine_sim=cosine_sim):\n",
    "    if title not in indices:\n",
    "        return []\n",
    "    idx = indices[title]\n",
    "    sim_scores = list(enumerate(cosine_sim[idx]))\n",
    "    sim_scores = sorted(sim_scores, key=lambda x: x[1], reverse=True)[1:11]\n",
    "    movie_indices = [i[0] for i in sim_scores]\n",
    "    return movies['title'].iloc[movie_indices].tolist()\n",
    "\n",
    "# Ví dụ: gợi ý theo phim “Toy Story (1995)”\n",
    "print(\"Gợi ý từ Content-Based:\")\n",
    "print(content_recommend(\"Toy Story (1995)\"))\n",
    "print(cosine_sim)\n",
    "print(indices)"
   ]
  }
 ],
 "metadata": {
  "kernelspec": {
   "display_name": "Python 3 (ipykernel)",
   "language": "python",
   "name": "python3"
  },
  "language_info": {
   "codemirror_mode": {
    "name": "ipython",
    "version": 3
   },
   "file_extension": ".py",
   "mimetype": "text/x-python",
   "name": "python",
   "nbconvert_exporter": "python",
   "pygments_lexer": "ipython3",
   "version": "3.11.5"
  }
 },
 "nbformat": 4,
 "nbformat_minor": 5
}
