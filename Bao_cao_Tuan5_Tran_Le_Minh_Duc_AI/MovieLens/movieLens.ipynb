{
 "cells": [
  {
   "cell_type": "code",
   "execution_count": 4,
   "id": "9a7e7d09-57d4-4910-b863-6ce33307c453",
   "metadata": {},
   "outputs": [],
   "source": [
    "import pandas as pd\n",
    "import numpy as np\n",
    "import matplotlib.pyplot as plt\n"
   ]
  },
  {
   "cell_type": "code",
   "execution_count": 5,
   "id": "da722cc7-d614-4313-b3e2-a5bbe0becedb",
   "metadata": {},
   "outputs": [
    {
     "name": "stdout",
     "output_type": "stream",
     "text": [
      "<class 'pandas.core.frame.DataFrame'>\n",
      "RangeIndex: 9742 entries, 0 to 9741\n",
      "Data columns (total 3 columns):\n",
      " #   Column   Non-Null Count  Dtype \n",
      "---  ------   --------------  ----- \n",
      " 0   movieId  9742 non-null   int64 \n",
      " 1   title    9742 non-null   object\n",
      " 2   genres   9742 non-null   object\n",
      "dtypes: int64(1), object(2)\n",
      "memory usage: 228.5+ KB\n",
      "<class 'pandas.core.frame.DataFrame'>\n",
      "RangeIndex: 100836 entries, 0 to 100835\n",
      "Data columns (total 4 columns):\n",
      " #   Column     Non-Null Count   Dtype  \n",
      "---  ------     --------------   -----  \n",
      " 0   userId     100836 non-null  int64  \n",
      " 1   movieId    100836 non-null  int64  \n",
      " 2   rating     100836 non-null  float64\n",
      " 3   timestamp  100836 non-null  int64  \n",
      "dtypes: float64(1), int64(3)\n",
      "memory usage: 3.1 MB\n",
      "<class 'pandas.core.frame.DataFrame'>\n",
      "RangeIndex: 3683 entries, 0 to 3682\n",
      "Data columns (total 4 columns):\n",
      " #   Column     Non-Null Count  Dtype \n",
      "---  ------     --------------  ----- \n",
      " 0   userId     3683 non-null   int64 \n",
      " 1   movieId    3683 non-null   int64 \n",
      " 2   tag        3683 non-null   object\n",
      " 3   timestamp  3683 non-null   int64 \n",
      "dtypes: int64(3), object(1)\n",
      "memory usage: 115.2+ KB\n"
     ]
    }
   ],
   "source": [
    "movies = pd.read_csv(\"movies.csv\")\n",
    "ratings = pd.read_csv(\"ratings.csv\")\n",
    "tags = pd.read_csv(\"tags.csv\")\n",
    " \n",
    "movies.info()\n",
    "ratings.info()\n",
    "tags.info()"
   ]
  },
  {
   "cell_type": "code",
   "execution_count": 6,
   "id": "996cb089-736d-40b0-afb3-8f4c4e7ef24d",
   "metadata": {},
   "outputs": [],
   "source": [
    "# Kiểm tra và loại bỏ dữ liệu thiếu\n",
    "movies.dropna(inplace=True)\n",
    "ratings.dropna(inplace=True)\n",
    "tags.dropna(inplace=True)\n",
    "\n",
    "# Loại bỏ duplicate nếu có\n",
    "movies.drop_duplicates(inplace=True)\n",
    "ratings.drop_duplicates(inplace=True)"
   ]
  },
  {
   "cell_type": "code",
   "execution_count": 7,
   "id": "a6c75544-c5ee-4cdf-984f-b00625af89cd",
   "metadata": {},
   "outputs": [
    {
     "data": {
      "image/png": "[encoded data removed]",
      "text/plain": [
       "<Figure size 640x480 with 1 Axes>"
      ]
     },
     "metadata": {},
     "output_type": "display_data"
    }
   ],
   "source": [
    "# Thống kê rating\n",
    "ratings['rating'].hist(bins=20, edgecolor='black')\n",
    "plt.title(\"Phân phối điểm đánh giá phim\")\n",
    "plt.xlabel(\"Điểm đánh giá\")\n",
    "plt.ylabel(\"Số lượng đánh giá\")\n",
    "plt.grid(False)\n",
    "plt.show()"
   ]
  },
  {
   "cell_type": "code",
   "execution_count": 8,
   "id": "c748021f-6860-47d8-8f94-f39cf1a8346d",
   "metadata": {},
   "outputs": [
    {
     "name": "stdout",
     "output_type": "stream",
     "text": [
      "                                       title  rating\n",
      "0                        Forrest Gump (1994)     329\n",
      "1           Shawshank Redemption, The (1994)     317\n",
      "2                        Pulp Fiction (1994)     307\n",
      "3           Silence of the Lambs, The (1991)     279\n",
      "4                         Matrix, The (1999)     278\n",
      "5  Star Wars: Episode IV - A New Hope (1977)     251\n",
      "6                       Jurassic Park (1993)     238\n",
      "7                          Braveheart (1995)     237\n",
      "8          Terminator 2: Judgment Day (1991)     224\n",
      "9                    Schindler's List (1993)     220\n"
     ]
    }
   ],
   "source": [
    "import seaborn as sns\n",
    "# Top phim được đánh giá nhiều nhất\n",
    "top_movies = ratings.groupby(\"movieId\")['rating'].count().sort_values(ascending=False).head(10)\n",
    "top_movies = pd.merge(top_movies, movies, on='movieId')\n",
    "print(top_movies[['title', 'rating']])\n"
   ]
  },
  {
   "cell_type": "code",
   "execution_count": 9,
   "id": "8b4dada9-988e-4760-8740-069786067ad8",
   "metadata": {},
   "outputs": [
    {
     "name": "stdout",
     "output_type": "stream",
     "text": [
      "Ratings:\n",
      "              userId        movieId         rating     timestamp\n",
      "count  100836.000000  100836.000000  100836.000000  1.008360e+05\n",
      "mean      326.127564   19435.295718       3.501557  1.205946e+09\n",
      "std       182.618491   35530.987199       1.042529  2.162610e+08\n",
      "min         1.000000       1.000000       0.500000  8.281246e+08\n",
      "25%       177.000000    1199.000000       3.000000  1.019124e+09\n",
      "50%       325.000000    2991.000000       3.500000  1.186087e+09\n",
      "75%       477.000000    8122.000000       4.000000  1.435994e+09\n",
      "max       610.000000  193609.000000       5.000000  1.537799e+09\n",
      "\n",
      "Số lượng phim: 9742\n",
      "Số lượng người dùng: 610\n",
      "Số rating trung bình trên mỗi phim: 10.369806663924312\n"
     ]
    }
   ],
   "source": [
    "print(\"Ratings:\")\n",
    "print(ratings.describe())\n",
    "\n",
    "print(\"\\nSố lượng phim:\", movies['movieId'].nunique())\n",
    "print(\"Số lượng người dùng:\", ratings['userId'].nunique())\n",
    "print(\"Số rating trung bình trên mỗi phim:\", ratings.groupby('movieId').size().mean())\n"
   ]
  },
  {
   "cell_type": "code",
   "execution_count": 10,
   "id": "c8ccd62e-2a9e-4102-b642-d0012ab480c8",
   "metadata": {},
   "outputs": [],
   "source": [
    "from sklearn.metrics.pairwise import cosine_similarity\n",
    "from sklearn.decomposition import TruncatedSVD\n",
    "from sklearn.model_selection import train_test_split\n",
    "from sklearn.metrics import mean_squared_error, mean_absolute_error\n",
    "# Tạo ma trận người dùng - phim\n",
    "user_movie_matrix = ratings.pivot_table(index='userId', columns='movieId', values='rating').fillna(0)\n",
    "\n",
    "# === KNN user-based Collaborative Filtering ===\n",
    "user_similarity = cosine_similarity(user_movie_matrix)\n",
    "user_similarity_df = pd.DataFrame(user_similarity, index=user_movie_matrix.index, columns=user_movie_matrix.index)\n",
    "\n",
    "# Gợi ý: dự đoán điểm đánh giá user u cho movie m\n",
    "def predict_rating_knn(user_id, movie_id, k=5):\n",
    "    if movie_id not in user_movie_matrix.columns:\n",
    "        return np.nan\n",
    "\n",
    "    # Lấy k người dùng giống user_id nhất\n",
    "    sim_scores = user_similarity_df[user_id].drop(index=user_id).sort_values(ascending=False)[:k]\n",
    "    top_users = sim_scores.index\n",
    "    ratings_by_top_users = user_movie_matrix.loc[top_users, movie_id]\n",
    "    weighted_ratings = ratings_by_top_users * sim_scores\n",
    "    return weighted_ratings.sum() / sim_scores[ratings_by_top_users.notnull()].sum()\n"
   ]
  },
  {
   "cell_type": "code",
   "execution_count": 11,
   "id": "82c0754c-643e-4dec-ac1c-02e0c5df163b",
   "metadata": {},
   "outputs": [],
   "source": [
    "# SVD giảm chiều dữ liệu\n",
    "svd = TruncatedSVD(n_components=20)\n",
    "svd_matrix = svd.fit_transform(user_movie_matrix)\n",
    "\n",
    "# Dự đoán lại ma trận đánh giá\n",
    "reconstructed = np.dot(svd_matrix, svd.components_)\n",
    "reconstructed_df = pd.DataFrame(reconstructed, index=user_movie_matrix.index, columns=user_movie_matrix.columns)\n"
   ]
  },
  {
   "cell_type": "code",
   "execution_count": 12,
   "id": "40f4d29e-af19-4f98-a140-cf6b3feb0d11",
   "metadata": {},
   "outputs": [
    {
     "name": "stdout",
     "output_type": "stream",
     "text": [
      "RMSE: 2.3668, MAE: 1.9846\n"
     ]
    }
   ],
   "source": [
    "# Tạo tập test\n",
    "train, test = train_test_split(ratings, test_size=0.2, random_state=42)\n",
    "\n",
    "# Dự đoán từ reconstructed SVD\n",
    "y_true = []\n",
    "y_pred = []\n",
    "\n",
    "for _, row in test.iterrows():\n",
    "    uid = row['userId']\n",
    "    mid = row['movieId']\n",
    "    true = row['rating']\n",
    "    try:\n",
    "        pred = reconstructed_df.loc[uid, mid]\n",
    "        y_true.append(true)\n",
    "        y_pred.append(pred)\n",
    "    except:\n",
    "        continue\n",
    "\n",
    "rmse = np.sqrt(mean_squared_error(y_true, y_pred))\n",
    "mae = mean_absolute_error(y_true, y_pred)\n",
    "\n",
    "print(f\"RMSE: {rmse:.4f}, MAE: {mae:.4f}\")\n"
   ]
  },
  {
   "cell_type": "code",
   "execution_count": 13,
   "id": "3a9ccc71-4f09-42a7-80a3-8f5d3681b6be",
   "metadata": {},
   "outputs": [
    {
     "name": "stdout",
     "output_type": "stream",
     "text": [
      "Precision: 0.8823038397328882\n",
      "Recall:    0.1090702713858219\n"
     ]
    }
   ],
   "source": [
    "from sklearn.metrics import precision_score, recall_score\n",
    "\n",
    "# Định nghĩa nhãn: >= 4 là thích\n",
    "y_true_labels = [1 if r >= 4.0 else 0 for r in y_true]\n",
    "y_pred_labels = [1 if r >= 4.0 else 0 for r in y_pred]\n",
    "\n",
    "precision = precision_score(y_true_labels, y_pred_labels, zero_division=0)\n",
    "recall = recall_score(y_true_labels, y_pred_labels, zero_division=0)\n",
    "\n",
    "print(f\"Precision: {precision}\")\n",
    "print(f\"Recall:    {recall}\")\n"
   ]
  },
  {
   "cell_type": "code",
   "execution_count": 14,
   "id": "f6cdfb2e-57b9-477e-bb02-b78307b80cd3",
   "metadata": {},
   "outputs": [
    {
     "name": "stdout",
     "output_type": "stream",
     "text": [
      "2355     Toy Story 2 (1999)\n",
      "7355     Toy Story 3 (2010)\n",
      "3595        Toy, The (1982)\n",
      "4089    Toy Soldiers (1991)\n",
      "26      Now and Then (1995)\n",
      "Name: title, dtype: object\n"
     ]
    }
   ],
   "source": [
    "from sklearn.feature_extraction.text import TfidfVectorizer\n",
    "from sklearn.metrics.pairwise import cosine_similarity\n",
    "\n",
    "# Tính TF-IDF từ tiêu đề phim\n",
    "tfidf = TfidfVectorizer(stop_words='english')\n",
    "tfidf_matrix = tfidf.fit_transform(movies['title'])\n",
    "\n",
    "cosine_sim = cosine_similarity(tfidf_matrix, tfidf_matrix)\n",
    "\n",
    "# Lấy danh sách phim tương tự\n",
    "def get_recommendations(title, cosine_sim=cosine_sim):\n",
    "    idx = movies[movies['title'] == title].index[0]\n",
    "    sim_scores = list(enumerate(cosine_sim[idx]))\n",
    "    sim_scores = sorted(sim_scores, key=lambda x: x[1], reverse=True)[1:6]\n",
    "    return movies.iloc[[i[0] for i in sim_scores]]['title']\n",
    "\n",
    "print(get_recommendations('Toy Story (1995)'))\n"
   ]
  }
 ],
 "metadata": {
  "kernelspec": {
   "display_name": "Python 3 (ipykernel)",
   "language": "python",
   "name": "python3"
  },
  "language_info": {
   "codemirror_mode": {
    "name": "ipython",
    "version": 3
   },
   "file_extension": ".py",
   "mimetype": "text/x-python",
   "name": "python",
   "nbconvert_exporter": "python",
   "pygments_lexer": "ipython3",
   "version": "3.13.3"
  }
 },
 "nbformat": 4,
 "nbformat_minor": 5
}
