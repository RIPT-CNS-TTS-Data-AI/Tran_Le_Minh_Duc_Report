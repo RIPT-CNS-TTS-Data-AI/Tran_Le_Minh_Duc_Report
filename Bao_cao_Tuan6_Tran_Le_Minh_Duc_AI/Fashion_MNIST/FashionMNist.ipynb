{
 "cells": [
  {
   "cell_type": "code",
   "execution_count": 18,
   "id": "d1f71433-d1ce-40a4-9149-c3b61c59a5e7",
   "metadata": {},
   "outputs": [
    {
     "data": {
      "text/plain": [
       "device(type='cpu')"
      ]
     },
     "execution_count": 18,
     "metadata": {},
     "output_type": "execute_result"
    }
   ],
   "source": [
    "import torch\n",
    "import torchvision\n",
    "import torchvision.transforms as transforms\n",
    "import torch.nn as nn\n",
    "import torch.nn.functional as F\n",
    "import torch.optim as optim\n",
    "import numpy as np\n",
    "import matplotlib.pyplot as plt\n",
    "\n",
    "\n",
    "# Để tái tạo\n",
    "torch.manual_seed(42)\n",
    "np.random.seed(42)\n",
    "\n",
    "\n",
    "device = torch.device(\"cuda\" if torch.cuda.is_available() else \"cpu\")\n",
    "device"
   ]
  },
  {
   "cell_type": "code",
   "execution_count": 20,
   "id": "0bfe39b9-8c45-46bf-80de-8a7de2d42569",
   "metadata": {},
   "outputs": [],
   "source": [
    "# Import the necessary transformations module from torchvision\n",
    "import torchvision.transforms as transforms\n",
    "\n",
    "# Define a transformation pipeline. \n",
    "# Here, we're only converting the images to PyTorch tensor format.\n",
    "transform = transforms.Compose([transforms.ToTensor()])\n",
    "trainset = torchvision.datasets.FashionMNIST(root='./data', train=True, download=False, transform=transform)\n",
    "trainloader = torch.utils.data.DataLoader(trainset, batch_size=4, shuffle=True, num_workers=2)\n",
    "testset = torchvision.datasets.FashionMNIST(root='./data', train=False, download=False, transform=transform)\n",
    "testloader = torch.utils.data.DataLoader(testset, batch_size=4, shuffle=False, num_workers=2)\n",
    "classes = ('T-shirt/top', 'Trouser', 'Pullover', 'Dress', 'Coat', \n",
    "           'Sandal', 'Shirt', 'Sneaker', 'Bag', 'Ankle boot')"
   ]
  },
  {
   "cell_type": "code",
   "execution_count": 22,
   "id": "a516d403-2eee-4403-abd6-b42cf357361a",
   "metadata": {},
   "outputs": [],
   "source": [
    "#tạo basic CNN"
   ]
  },
  {
   "cell_type": "code",
   "execution_count": 24,
   "id": "f9eecb29-3b82-40c7-82dc-3cb660b56514",
   "metadata": {},
   "outputs": [],
   "source": [
    "class BasicCNN(nn.Module):\n",
    "    def __init__(self):\n",
    "        super(BasicCNN, self).__init__()\n",
    "        # Input: [batch_size, 1, 28, 28]\n",
    "        self.conv1 = nn.Conv2d(1, 32, 3)  # Output: [batch_size, 32, 26, 26]\n",
    "        \n",
    "        # Input: [batch_size, 32, 26, 26]\n",
    "        self.conv2 = nn.Conv2d(32, 64, 3) # Output: [batch_size, 64, 11, 11]\n",
    "        \n",
    "        self.fc1 = nn.Linear(64 * 5 * 5, 128)  # Flattening: [batch_size, 64*5*5]\n",
    "        self.fc2 = nn.Linear(128, 10)\n",
    "\n",
    "    def forward(self, x):\n",
    "        # Input: [batch_size, 1, 28, 28]\n",
    "        x = F.relu(self.conv1(x))\n",
    "        # Shape: [batch_size, 32, 26, 26]\n",
    "        x = F.max_pool2d(x, 2)\n",
    "        # Shape: [batch_size, 32, 13, 13]\n",
    "        \n",
    "        x = F.relu(self.conv2(x))\n",
    "        # Shape: [batch_size, 64, 11, 11]\n",
    "        x = F.max_pool2d(x, 2)\n",
    "        # Shape: [batch_size, 64, 5, 5]\n",
    "        \n",
    "        x = x.view(-1, 64 * 5 * 5) # Flattening\n",
    "        x = F.relu(self.fc1(x))\n",
    "        x = self.fc2(x)\n",
    "        return F.log_softmax(x, dim=1)"
   ]
  },
  {
   "cell_type": "code",
   "execution_count": 26,
   "id": "47b3018b-aa23-44f2-902b-7e61bedaf7ef",
   "metadata": {},
   "outputs": [],
   "source": [
    "#training and evaluation"
   ]
  },
  {
   "cell_type": "code",
   "execution_count": 28,
   "id": "47e5c105-5740-4105-8f80-56da2ed96b2e",
   "metadata": {},
   "outputs": [],
   "source": [
    "# Khởi tạo mô hình\n",
    "model = BasicCNN().to(device)"
   ]
  },
  {
   "cell_type": "code",
   "execution_count": 30,
   "id": "eea34a87-3d69-4858-ba13-9b6f9fcef18f",
   "metadata": {},
   "outputs": [],
   "source": [
    "# Tối ưu hóa và Loss Function\n",
    "optimizer = torch.optim.Adam(model.parameters(), lr=0.001)\n",
    "criterion = nn.CrossEntropyLoss()\n"
   ]
  },
  {
   "cell_type": "code",
   "execution_count": 31,
   "id": "1159e5bb-279c-488f-810a-3277b1ecce66",
   "metadata": {},
   "outputs": [],
   "source": [
    "# Number of complete passes through the dataset\n",
    "num_epochs = 5\n",
    "\n",
    "# Start the training loop\n",
    "for epoch in range(num_epochs):\n",
    "    # Set the model to training mode\n",
    "    model.train()\n",
    "    \n",
    "    # Iterate over each batch of the training data\n",
    "    for images, labels in trainloader:\n",
    "        # Move the images and labels to the computational device (CPU or GPU)\n",
    "        images, labels = images.to(device), labels.to(device)\n",
    "        \n",
    "        # Clear the gradients from the previous iteration\n",
    "        optimizer.zero_grad()\n",
    "        \n",
    "        # Forward pass: Pass the images through the model to get the predicted outputs\n",
    "        outputs = model(images)\n",
    "        \n",
    "        # Compute the loss between the predicted outputs and the true labels\n",
    "        loss = criterion(outputs, labels)\n",
    "        \n",
    "        # Backward pass: Compute the gradient of the loss w.r.t. model parameters\n",
    "        loss.backward()\n",
    "        \n",
    "        # Update the model parameters\n",
    "        optimizer.step()"
   ]
  },
  {
   "cell_type": "code",
   "execution_count": 32,
   "id": "b1df7abe-5865-45d2-bfa7-845d073a33b7",
   "metadata": {},
   "outputs": [
    {
     "name": "stdout",
     "output_type": "stream",
     "text": [
      "              precision    recall  f1-score   support\n",
      "\n",
      " T-shirt/top       0.89      0.79      0.83      1000\n",
      "     Trouser       0.99      0.97      0.98      1000\n",
      "    Pullover       0.79      0.89      0.84      1000\n",
      "       Dress       0.89      0.93      0.91      1000\n",
      "        Coat       0.88      0.75      0.81      1000\n",
      "      Sandal       0.98      0.98      0.98      1000\n",
      "       Shirt       0.67      0.74      0.71      1000\n",
      "     Sneaker       0.95      0.97      0.96      1000\n",
      "         Bag       0.97      0.98      0.98      1000\n",
      "  Ankle boot       0.97      0.96      0.96      1000\n",
      "\n",
      "    accuracy                           0.90     10000\n",
      "   macro avg       0.90      0.90      0.90     10000\n",
      "weighted avg       0.90      0.90      0.90     10000\n",
      "\n"
     ]
    },
    {
     "data": {
      "image/png": "[encoded data removed]",
      "text/plain": [
       "<Figure size 1000x800 with 2 Axes>"
      ]
     },
     "metadata": {},
     "output_type": "display_data"
    }
   ],
   "source": [
    "from sklearn.metrics import classification_report, confusion_matrix\n",
    "import seaborn as sns\n",
    "# Set the model to evaluation mode. This is important as certain layers like dropout behave differently during training and evaluation.\n",
    "model.eval()\n",
    "\n",
    "# Lists to store all predictions and true labels\n",
    "all_preds = []\n",
    "all_labels = []\n",
    "\n",
    "# We don't want to compute gradients during evaluation, hence wrap the code inside torch.no_grad()\n",
    "with torch.no_grad():\n",
    "    # Iterate over all batches in the test loader\n",
    "    for images, labels in testloader:\n",
    "        # Transfer images and labels to the computational device (either CPU or GPU)\n",
    "        images, labels = images.to(device), labels.to(device)\n",
    "        \n",
    "        # Pass the images through the model to get predictions\n",
    "        outputs = model(images)\n",
    "        \n",
    "        # Get the class with the maximum probability as the predicted class\n",
    "        _, predicted = torch.max(outputs, 1)\n",
    "        \n",
    "        # Extend the all_preds list with predictions from this batch\n",
    "        all_preds.extend(predicted.cpu().numpy())\n",
    "        \n",
    "        # Extend the all_labels list with true labels from this batch\n",
    "        all_labels.extend(labels.cpu().numpy())\n",
    "\n",
    "# Print a classification report which provides an overview of the model's performance for each class\n",
    "print(classification_report(all_labels, all_preds, target_names=classes))\n",
    "\n",
    "# Compute the confusion matrix using true labels and predictions\n",
    "cm = confusion_matrix(all_labels, all_preds)\n",
    "\n",
    "# Visualize the confusion matrix using seaborn's heatmap\n",
    "plt.figure(figsize=(10,8))\n",
    "sns.heatmap(cm, annot=True, fmt=\"d\", cmap=plt.cm.Blues, xticklabels=classes, yticklabels=classes)\n",
    "plt.xlabel('Predicted Label')  # x-axis label\n",
    "plt.ylabel('True Label')       # y-axis label\n",
    "plt.title('Confusion Matrix')  # Title of the plot\n",
    "plt.show()                     # Display the plot"
   ]
  },
  {
   "cell_type": "code",
   "execution_count": 33,
   "id": "e823785b-6e36-448d-aad8-4901ccd6ce4a",
   "metadata": {},
   "outputs": [
    {
     "data": {
      "text/plain": [
       "NetDropout(\n",
       "  (conv1): Conv2d(1, 32, kernel_size=(3, 3), stride=(1, 1), padding=(1, 1))\n",
       "  (conv2): Conv2d(32, 64, kernel_size=(3, 3), stride=(1, 1), padding=(1, 1))\n",
       "  (pool): MaxPool2d(kernel_size=2, stride=2, padding=0, dilation=1, ceil_mode=False)\n",
       "  (dropout): Dropout(p=0.25, inplace=False)\n",
       "  (fc1): Linear(in_features=3136, out_features=512, bias=True)\n",
       "  (fc2): Linear(in_features=512, out_features=10, bias=True)\n",
       ")"
      ]
     },
     "execution_count": 33,
     "metadata": {},
     "output_type": "execute_result"
    }
   ],
   "source": [
    "import torch.nn as nn\n",
    "import torch.nn.functional as F\n",
    "\n",
    "class NetDropout(nn.Module):\n",
    "    def __init__(self):\n",
    "        super(NetDropout, self).__init__()\n",
    "        \n",
    "        # Convolutional layers\n",
    "        self.conv1 = nn.Conv2d(in_channels=1, out_channels=32, kernel_size=3, padding=1)  # Output shape: [batch_size, 32, 28, 28]\n",
    "        self.conv2 = nn.Conv2d(in_channels=32, out_channels=64, kernel_size=3, padding=1) # Output shape: [batch_size, 64, 14, 14]\n",
    "        \n",
    "        # Max pooling layer\n",
    "        self.pool = nn.MaxPool2d(kernel_size=2, stride=2, padding=0) # Reduces spatial dimensions by half\n",
    "        \n",
    "        # Dropout layer\n",
    "        self.dropout = nn.Dropout(0.25)  # Helps prevent overfitting\n",
    "        \n",
    "        # Fully connected layers\n",
    "        self.fc1 = nn.Linear(64 * 7 * 7, 512)  # Flattened input to 512 output features\n",
    "        self.fc2 = nn.Linear(512, 10)          # 512 input features to 10 output classes\n",
    "\n",
    "    def forward(self, x):\n",
    "        x = self.pool(F.relu(self.conv1(x))) # Shape: [batch_size, 32, 14, 14]\n",
    "        x = self.pool(F.relu(self.conv2(x))) # Shape: [batch_size, 64, 7, 7]\n",
    "        \n",
    "        x = x.view(-1, 64 * 7 * 7)  # Flatten the tensor\n",
    "        x = self.dropout(x)         # Apply dropout\n",
    "        \n",
    "        x = F.relu(self.fc1(x))     # First fully connected layer with ReLU activation\n",
    "        x = self.fc2(x)             # Second fully connected layer\n",
    "        \n",
    "        # Here, we're not applying log_softmax. If you use nn.CrossEntropyLoss as the loss function later,\n",
    "        # it will implicitly apply softmax for you.\n",
    "        # If you plan on using nn.NLLLoss, uncomment the line below:\n",
    "        # x = F.log_softmax(x, dim=1)\n",
    "        \n",
    "        return x\n",
    "\n",
    "# Instantiate the model with dropout\n",
    "model_dropout = NetDropout().to(device)\n",
    "model_dropout"
   ]
  },
  {
   "cell_type": "code",
   "execution_count": 34,
   "id": "3cf2524c-b0cd-43a7-9d7d-f2c26044c31d",
   "metadata": {},
   "outputs": [],
   "source": [
    "optimizer = torch.optim.Adam(model_dropout.parameters(), lr=0.001)\n",
    "criterion = nn.CrossEntropyLoss()\n"
   ]
  },
  {
   "cell_type": "code",
   "execution_count": null,
   "id": "be96a802-89ee-4963-afc1-eaa792eae485",
   "metadata": {},
   "outputs": [
    {
     "name": "stdout",
     "output_type": "stream",
     "text": [
      "Epoch [1/5], Loss: 0.3897\n"
     ]
    }
   ],
   "source": [
    "# Number of complete passes through the dataset\n",
    "num_epochs = 5\n",
    "\n",
    "# Start the training loop\n",
    "for epoch in range(num_epochs):\n",
    "    # Initialize a variable to keep track of the cumulative loss for this epoch\n",
    "    running_loss = 0.0\n",
    "    \n",
    "    # Set the model to training mode\n",
    "    model_dropout.train()\n",
    "    \n",
    "    # Iterate over each batch of the training data\n",
    "    for i, (images, labels) in enumerate(trainloader):\n",
    "        # Move the images and labels to the computational device (CPU or GPU)\n",
    "        images, labels = images.to(device), labels.to(device)\n",
    "        \n",
    "        # Clear the gradients from the previous iteration\n",
    "        optimizer.zero_grad()\n",
    "        \n",
    "        # Forward pass: Pass the images through the model to get the predicted outputs\n",
    "        outputs = model_dropout(images)\n",
    "        \n",
    "        # Compute the loss between the predicted outputs and the true labels\n",
    "        loss = criterion(outputs, labels)\n",
    "        \n",
    "        # Backward pass: Compute the gradient of the loss w.r.t. model parameters\n",
    "        loss.backward()\n",
    "        \n",
    "        # Update the model parameters\n",
    "        optimizer.step()\n",
    "        \n",
    "        # Update the running loss\n",
    "        running_loss += loss.item()\n",
    "    \n",
    "    # Print the average loss for this epoch\n",
    "    print(f\"Epoch [{epoch+1}/{num_epochs}], Loss: {running_loss/len(trainloader):.4f}\")\n",
    "\n",
    "print(\"Finished Training\")"
   ]
  },
  {
   "cell_type": "code",
   "execution_count": 1,
   "id": "e06d1c18-0d7f-4fac-aded-a6c9217b74b7",
   "metadata": {},
   "outputs": [
    {
     "ename": "NameError",
     "evalue": "name 'model_dropout' is not defined",
     "output_type": "error",
     "traceback": [
      "\u001b[31m---------------------------------------------------------------------------\u001b[39m",
      "\u001b[31mNameError\u001b[39m                                 Traceback (most recent call last)",
      "\u001b[36mCell\u001b[39m\u001b[36m \u001b[39m\u001b[32mIn[1]\u001b[39m\u001b[32m, line 7\u001b[39m\n\u001b[32m      4\u001b[39m \u001b[38;5;28;01mimport\u001b[39;00m\u001b[38;5;250m \u001b[39m\u001b[34;01mmatplotlib\u001b[39;00m\u001b[34;01m.\u001b[39;00m\u001b[34;01mpyplot\u001b[39;00m\u001b[38;5;250m \u001b[39m\u001b[38;5;28;01mas\u001b[39;00m\u001b[38;5;250m \u001b[39m\u001b[34;01mplt\u001b[39;00m\n\u001b[32m      6\u001b[39m \u001b[38;5;66;03m# Set the model to evaluation mode. This is important as certain layers like dropout behave differently during training and evaluation.\u001b[39;00m\n\u001b[32m----> \u001b[39m\u001b[32m7\u001b[39m \u001b[43mmodel_dropout\u001b[49m.eval()\n\u001b[32m      9\u001b[39m \u001b[38;5;66;03m# Lists to store all predictions and true labels\u001b[39;00m\n\u001b[32m     10\u001b[39m all_preds = []\n",
      "\u001b[31mNameError\u001b[39m: name 'model_dropout' is not defined"
     ]
    }
   ],
   "source": [
    "import numpy as np\n",
    "from sklearn.metrics import classification_report, confusion_matrix\n",
    "import seaborn as sns\n",
    "import matplotlib.pyplot as plt\n",
    "\n",
    "# Set the model to evaluation mode. This is important as certain layers like dropout behave differently during training and evaluation.\n",
    "model_dropout.eval()\n",
    "\n",
    "# Lists to store all predictions and true labels\n",
    "all_preds = []\n",
    "all_labels = []\n",
    "\n",
    "# We don't want to compute gradients during evaluation, hence wrap the code inside torch.no_grad()\n",
    "with torch.no_grad():\n",
    "    # Iterate over all batches in the test loader\n",
    "    for images, labels in testloader:\n",
    "        # Transfer images and labels to the computational device (either CPU or GPU)\n",
    "        images, labels = images.to(device), labels.to(device)\n",
    "        \n",
    "        # Pass the images through the model to get predictions\n",
    "        outputs = model_dropout(images)\n",
    "        \n",
    "        # Get the class with the maximum probability as the predicted class\n",
    "        _, predicted = torch.max(outputs, 1)\n",
    "        \n",
    "        # Extend the all_preds list with predictions from this batch\n",
    "        all_preds.extend(predicted.cpu().numpy())\n",
    "        \n",
    "        # Extend the all_labels list with true labels from this batch\n",
    "        all_labels.extend(labels.cpu().numpy())\n",
    "\n",
    "# Print a classification report which provides an overview of the model's performance for each class\n",
    "print(classification_report(all_labels, all_preds, target_names=classes))\n",
    "\n",
    "# Compute the confusion matrix using true labels and predictions\n",
    "cm = confusion_matrix(all_labels, all_preds)\n",
    "\n",
    "# Visualize the confusion matrix using seaborn's heatmap\n",
    "plt.figure(figsize=(10,8))\n",
    "sns.heatmap(cm, annot=True, fmt=\"d\", cmap=plt.cm.Blues, xticklabels=classes, yticklabels=classes)\n",
    "plt.xlabel('Predicted Label')  # x-axis label\n",
    "plt.ylabel('True Label')       # y-axis label\n",
    "plt.title('Confusion Matrix')  # Title of the plot\n",
    "plt.show()                     # Display the plot"
   ]
  },
  {
   "cell_type": "code",
   "execution_count": null,
   "id": "96a12ee7-fd85-4c4d-a24e-a1a4fe350d14",
   "metadata": {},
   "outputs": [],
   "source": []
  }
 ],
 "metadata": {
  "kernelspec": {
   "display_name": "Python 3 (ipykernel)",
   "language": "python",
   "name": "python3"
  },
  "language_info": {
   "codemirror_mode": {
    "name": "ipython",
    "version": 3
   },
   "file_extension": ".py",
   "mimetype": "text/x-python",
   "name": "python",
   "nbconvert_exporter": "python",
   "pygments_lexer": "ipython3",
   "version": "3.13.3"
  }
 },
 "nbformat": 4,
 "nbformat_minor": 5
}
